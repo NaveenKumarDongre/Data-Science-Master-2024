{
 "cells": [
  {
   "cell_type": "markdown",
   "id": "70b2db6e-e09e-4267-863a-63d9407df071",
   "metadata": {},
   "source": [
    "# Python Datatypes"
   ]
  },
  {
   "cell_type": "markdown",
   "id": "2b977216-479d-4943-aba8-6c94da11c49e",
   "metadata": {},
   "source": [
    "### Basic Data type in Python\n",
    "\n",
    "<li> Although a programmer is not allowed to mention the data types while creating vaariables is his program in Python, as Python is consider a dynamic language, but Python internally allots different data types to variables depending on their declaration style and value.</li>\n",
    "<li>Overall Python had <b>14 data types and these are classified into 6 categories<b></li>"
   ]
  },
  {
   "cell_type": "markdown",
   "id": "aa3b602f-3802-442f-8885-296f45a99187",
   "metadata": {},
   "source": [
    "### This categories are:\n",
    "<ol>\n",
    "<li>Numeric Types</li>\n",
    "<li>Boolean Types</li>\n",
    "<li>Sequence Types</li>\n",
    "<li>Set Types</li>\n",
    "<li>Mapping Types</li>\n",
    "<li>None Types</li>\n",
    "</ol>"
   ]
  },
  {
   "cell_type": "markdown",
   "id": "2b579850-d1be-4b46-98d4-9fff5413ab4a",
   "metadata": {},
   "source": [
    "### Python Data Types\n",
    "\n",
    "| Category         | Data Types                         |\n",
    "|------------------|------------------------------------|\n",
    "| Numeric Types    | `int`, `float`, `complex`          |\n",
    "| Boolean Types    | `bool`                             |\n",
    "| Sequence Types   | `str`, `list`, `tuple`, `range`    |\n",
    "| Set Types        | `set`, `frozenset`                 |\n",
    "| Mapping Types    | `dict`                             |\n",
    "| None Types       | `NoneType`                         |\n"
   ]
  },
  {
   "cell_type": "markdown",
   "id": "996e6959-2f73-47dd-ad5c-8f01fc526e60",
   "metadata": {},
   "source": [
    "### Now if you want to is the type of a particular variable use type() method"
   ]
  },
  {
   "cell_type": "code",
   "execution_count": 3,
   "id": "cd883de8-5ad2-4cee-805a-ba701ae45280",
   "metadata": {},
   "outputs": [
    {
     "data": {
      "text/plain": [
       "int"
      ]
     },
     "execution_count": 3,
     "metadata": {},
     "output_type": "execute_result"
    }
   ],
   "source": [
    "a = 1\n",
    "type(a)"
   ]
  },
  {
   "cell_type": "code",
   "execution_count": 5,
   "id": "5da5b536-6c19-49b7-8314-0f07db178e08",
   "metadata": {},
   "outputs": [
    {
     "data": {
      "text/plain": [
       "float"
      ]
     },
     "execution_count": 5,
     "metadata": {},
     "output_type": "execute_result"
    }
   ],
   "source": [
    "a = 20.5\n",
    "type(a)"
   ]
  },
  {
   "cell_type": "code",
   "execution_count": 6,
   "id": "db9dab30-a3d6-4a3c-b327-559aa43fdb88",
   "metadata": {},
   "outputs": [
    {
     "name": "stdout",
     "output_type": "stream",
     "text": [
      "<class 'bool'>\n"
     ]
    }
   ],
   "source": [
    "a = True\n",
    "print(type(a))"
   ]
  },
  {
   "cell_type": "markdown",
   "id": "2f5642aa-ef3b-40f3-a981-4689ed7764fa",
   "metadata": {},
   "source": [
    "## Some very important points\n",
    "<ol>\n",
    "<li>Data types in python are Dynamic</li>\n",
    "    <li>Size of the data type is also Dynamically managed</li>\n",
    "    <li>Data types are unbounded</li>\n",
    "</ol>"
   ]
  },
  {
   "cell_type": "markdown",
   "id": "f63cd522-4dd7-4ad9-82c1-d659bf396ad2",
   "metadata": {},
   "source": [
    "### 1. Data types in python are dynamic\n",
    "<li>The term dynamic meand that we can assign different values to the same variable at the different points of time</li>\n",
    "<li>Python will dynamically change the type of variable as per the value given</li>"
   ]
  },
  {
   "cell_type": "code",
   "execution_count": 7,
   "id": "f96a7306-6374-4699-a631-f8d28d291ecb",
   "metadata": {},
   "outputs": [
    {
     "data": {
      "text/plain": [
       "int"
      ]
     },
     "execution_count": 7,
     "metadata": {},
     "output_type": "execute_result"
    }
   ],
   "source": [
    "v1 = 2\n",
    "type(v1)"
   ]
  },
  {
   "cell_type": "code",
   "execution_count": 8,
   "id": "e9069313-b28b-4e7b-9cb1-c299f8e5fd5b",
   "metadata": {},
   "outputs": [
    {
     "data": {
      "text/plain": [
       "str"
      ]
     },
     "execution_count": 8,
     "metadata": {},
     "output_type": "execute_result"
    }
   ],
   "source": [
    "v1 = \"Python\"\n",
    "type(v1)"
   ]
  },
  {
   "cell_type": "markdown",
   "id": "7340a197-ceac-4584-940a-18045a24482f",
   "metadata": {},
   "source": [
    "### 2. Size of the data type is also dynamically managed\n",
    "<li> In Python the size of data type is dynamically managed </li>\n",
    "<li> Like C/C++/JAVA language, variables in Python are not of fixed size</li>\n",
    "<li> Python makes them as big as required iin demand</li>\n",
    "<li>There is no quesion of how much memory a variable uses in Python because this memory increases as per the value being assigned</li>"
   ]
  },
  {
   "cell_type": "code",
   "execution_count": 9,
   "id": "48695f67-1394-4fb8-b8b9-e67d7f64f7a4",
   "metadata": {},
   "outputs": [
    {
     "data": {
      "text/plain": [
       "28"
      ]
     },
     "execution_count": 9,
     "metadata": {},
     "output_type": "execute_result"
    }
   ],
   "source": [
    "import sys\n",
    "var2 = 1\n",
    "sys.getsizeof(var2)"
   ]
  },
  {
   "cell_type": "code",
   "execution_count": 10,
   "id": "35c1fafe-5936-4965-afe5-49bad664f121",
   "metadata": {},
   "outputs": [
    {
     "data": {
      "text/plain": [
       "136"
      ]
     },
     "execution_count": 10,
     "metadata": {},
     "output_type": "execute_result"
    }
   ],
   "source": [
    "var2 = [1,2,3,4,4,5,5,65,10]\n",
    "sys.getsizeof(var2)"
   ]
  },
  {
   "cell_type": "markdown",
   "id": "975a8563-d90c-4497-8632-b2ce191aa37e",
   "metadata": {},
   "source": [
    "### 3. Data types are ubounded\n",
    "<li>Third important rule to remember is that, in Python data types like integers don't have any range i.e they are unbounded</li>\n",
    "<li>Like C/C++/Java it don't have max and min value in Python</li>\n",
    "<li>So an int variable can store as many digits as we want.</li>"
   ]
  },
  {
   "cell_type": "code",
   "execution_count": null,
   "id": "8c490a96-885e-4c3e-97bf-f78f07855199",
   "metadata": {},
   "outputs": [],
   "source": []
  }
 ],
 "metadata": {
  "kernelspec": {
   "display_name": "Python 3 (ipykernel)",
   "language": "python",
   "name": "python3"
  },
  "language_info": {
   "codemirror_mode": {
    "name": "ipython",
    "version": 3
   },
   "file_extension": ".py",
   "mimetype": "text/x-python",
   "name": "python",
   "nbconvert_exporter": "python",
   "pygments_lexer": "ipython3",
   "version": "3.11.1"
  }
 },
 "nbformat": 4,
 "nbformat_minor": 5
}
