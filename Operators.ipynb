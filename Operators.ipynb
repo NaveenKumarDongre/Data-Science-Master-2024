{
 "cells": [
  {
   "cell_type": "markdown",
   "id": "e6b69370-3d99-4af2-999e-aa276c05ec78",
   "metadata": {},
   "source": [
    "# Python Operators"
   ]
  },
  {
   "cell_type": "markdown",
   "id": "575059cf-0633-41fd-89c2-3a56a68423ed",
   "metadata": {},
   "source": [
    "## Assignment Operators"
   ]
  },
  {
   "cell_type": "markdown",
   "id": "bfd030a8-d9cc-43c4-9a1e-eafb37d08b83",
   "metadata": {},
   "source": [
    "-In python assignment operators are used to assign the value to the declared variables.\n",
    "\n",
    "Equals(=) operators is the most commonly used assignment operator in Python. \n",
    "\n",
    "for example:\n"
   ]
  },
  {
   "cell_type": "code",
   "execution_count": 1,
   "id": "781447a1-4675-4dbe-8d49-e9b5cde02df5",
   "metadata": {},
   "outputs": [],
   "source": [
    "a = 10\n",
    "# 10 value is assigned to a variable"
   ]
  },
  {
   "cell_type": "code",
   "execution_count": 2,
   "id": "4e96cb9e-fc45-4e4b-84d0-ed8e942b2031",
   "metadata": {},
   "outputs": [],
   "source": [
    "a = \"python\"\n",
    "# \"python value is assigned to the a"
   ]
  },
  {
   "cell_type": "markdown",
   "id": "177f3715-b8b3-452b-8823-6388fd77906d",
   "metadata": {},
   "source": [
    "### Shortcut of assigning of differeny value to all the variables"
   ]
  },
  {
   "cell_type": "code",
   "execution_count": 3,
   "id": "de2f7507-d121-462a-93d4-d1b9a10d5637",
   "metadata": {},
   "outputs": [
    {
     "name": "stdout",
     "output_type": "stream",
     "text": [
      "10 20 30 40\n"
     ]
    }
   ],
   "source": [
    "a, b, c, d = 10, 20, 30, 40\n",
    "print(a, b, c, d)"
   ]
  },
  {
   "cell_type": "markdown",
   "id": "a1c0eb22-2ae8-40b3-af37-6fef6ccb3473",
   "metadata": {},
   "source": [
    "### Shortcut of assigning same value to all variables "
   ]
  },
  {
   "cell_type": "code",
   "execution_count": 4,
   "id": "c23d225c-18e7-4238-9f54-97c14ba8e25c",
   "metadata": {},
   "outputs": [],
   "source": [
    "x = y = z = 10"
   ]
  },
  {
   "cell_type": "code",
   "execution_count": 5,
   "id": "37997c68-b001-4957-86ac-513a0be41e27",
   "metadata": {},
   "outputs": [
    {
     "name": "stdout",
     "output_type": "stream",
     "text": [
      "10 10 10\n"
     ]
    }
   ],
   "source": [
    "print(x, y, z)"
   ]
  },
  {
   "cell_type": "markdown",
   "id": "bd24b89b-fc2d-416a-b9eb-8def18b3c352",
   "metadata": {},
   "source": [
    "### Compound assignment operators"
   ]
  },
  {
   "cell_type": "markdown",
   "id": "14a88cd4-6469-4cc3-9b31-b9ea8f30ae00",
   "metadata": {},
   "source": [
    "<p>Python allows us to combine arithmetic operators as well as bitwise operators with assignment operators.</p>\n",
    "For example: The statement"
   ]
  },
  {
   "cell_type": "code",
   "execution_count": 6,
   "id": "fd92aa4f-8458-418d-83b8-d2435fa07f72",
   "metadata": {},
   "outputs": [],
   "source": [
    "x = x + 5"
   ]
  },
  {
   "cell_type": "markdown",
   "id": "de7f2514-2744-41ef-9dcc-15a787a14ea1",
   "metadata": {},
   "source": [
    "Can alos ne written as "
   ]
  },
  {
   "cell_type": "code",
   "execution_count": 7,
   "id": "c5f6ddde-a6d1-4c0b-bf06-e30cf674709c",
   "metadata": {},
   "outputs": [],
   "source": [
    "x += 5"
   ]
  },
  {
   "cell_type": "markdown",
   "id": "53d40c82-b729-4afa-9e46-6e2df493d8d3",
   "metadata": {},
   "source": [
    "## Below table shows various compound operators\n",
    "\n",
    "<img src=\"./images/CompoundOperators.png\" alt=\"Compund operators\" width=\"500\" height=\"300\">"
   ]
  },
  {
   "cell_type": "code",
   "execution_count": null,
   "id": "ea17b1d3-b2d2-4a5a-8cc3-0ec02b5bc4eb",
   "metadata": {},
   "outputs": [],
   "source": []
  }
 ],
 "metadata": {
  "kernelspec": {
   "display_name": "Python 3 (ipykernel)",
   "language": "python",
   "name": "python3"
  },
  "language_info": {
   "codemirror_mode": {
    "name": "ipython",
    "version": 3
   },
   "file_extension": ".py",
   "mimetype": "text/x-python",
   "name": "python",
   "nbconvert_exporter": "python",
   "pygments_lexer": "ipython3",
   "version": "3.11.1"
  }
 },
 "nbformat": 4,
 "nbformat_minor": 5
}
